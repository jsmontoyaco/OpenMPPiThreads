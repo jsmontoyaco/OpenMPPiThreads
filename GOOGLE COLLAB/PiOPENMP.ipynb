{
  "nbformat": 4,
  "nbformat_minor": 0,
  "metadata": {
    "colab": {
      "name": "PiOPENMP.ipynb",
      "provenance": []
    },
    "kernelspec": {
      "name": "python3",
      "display_name": "Python 3"
    },
    "language_info": {
      "name": "python"
    }
  },
  "cells": [
    {
      "cell_type": "markdown",
      "source": [
        "# Pi formula Secuential"
      ],
      "metadata": {
        "id": "_Lm2tefHiGe9"
      }
    },
    {
      "cell_type": "code",
      "execution_count": 7,
      "metadata": {
        "colab": {
          "base_uri": "https://localhost:8080/"
        },
        "id": "6Py6UfUGiCCO",
        "outputId": "82687095-65a6-4b23-e02b-1212d9253f88"
      },
      "outputs": [
        {
          "output_type": "stream",
          "name": "stdout",
          "text": [
            "Overwriting PisecCOLLAB.c\n"
          ]
        }
      ],
      "source": [
        "%%writefile PisecCOLLAB.c\n",
        "#include <stdio.h>\n",
        "#include <stdlib.h>\n",
        "#include <sys/time.h>\n",
        "\n",
        "#define ITERATIONS 2e9\n",
        "\n",
        "void Pileibnitz(double *pi){\n",
        "    for (int i=0; i<ITERATIONS;i++){\n",
        "        *pi += (double) 1.0/(i*2+1)*4.0;\n",
        "        i++;\n",
        "        *pi -= (double) 1.0/(i*2+1)*4.0;\n",
        "    }\n",
        "}\n",
        "\n",
        "void main(){\n",
        "    FILE *fo;\n",
        "    fo = fopen (\"PiOPMCOLLAB.txt\", \"a\");\n",
        "    double pi=0.0;\n",
        "    struct timeval tval_before, tval_after, tval_result;\n",
        "    gettimeofday(&tval_before, NULL);\n",
        "\n",
        "    Pileibnitz(&pi);\n",
        "\n",
        "    gettimeofday(&tval_after, NULL); \n",
        "    timersub(&tval_after, &tval_before, &tval_result);\n",
        "    long int seconds = (long int)tval_result.tv_sec;\n",
        "    long int useconds = (long int)tval_result.tv_usec;\n",
        "\n",
        "\n",
        "    fprintf(fo, \"1 %ld.%06ld\\n\", seconds, useconds);\n",
        "    fclose(fo);\n",
        "\n",
        "    printf(\"Pi calculated with %f iteractions \\n With a value of %f \\n Executed in %ld.%06ld seconds\", ITERATIONS, pi, seconds, useconds); //time execution calc command for linux\n",
        "}"
      ]
    },
    {
      "cell_type": "code",
      "source": [
        "%%shell\n",
        "gcc PisecCOLLAB.c -o PisecCOLLAB -fopenmp\n",
        "./PisecCOLLAB"
      ],
      "metadata": {
        "colab": {
          "base_uri": "https://localhost:8080/"
        },
        "id": "yZ4L7_uwiW7r",
        "outputId": "545a4706-f43b-4446-e1e4-7e045edc9a05"
      },
      "execution_count": 8,
      "outputs": [
        {
          "output_type": "stream",
          "name": "stdout",
          "text": [
            "Pi calculated with 2000000000.000000 iteractions \n",
            " With a value of 3.141593 \n",
            " Executed in 20.817805 seconds"
          ]
        },
        {
          "output_type": "execute_result",
          "data": {
            "text/plain": [
              ""
            ]
          },
          "metadata": {},
          "execution_count": 8
        }
      ]
    },
    {
      "cell_type": "markdown",
      "source": [
        "# Pi value with 2,3,4,8,16 threads"
      ],
      "metadata": {
        "id": "HFDkVLXKin6a"
      }
    },
    {
      "cell_type": "code",
      "source": [
        "%%writefile PiMPThreads.c\n",
        "#include <stdlib.h>\n",
        "#include <stdio.h>\n",
        "#include <omp.h>\n",
        "#include <sys/time.h>\n",
        "\n",
        "#define ITERATIONS 2e9\n",
        "#define THREADS 16\n",
        "int range = ITERATIONS/THREADS;\n",
        "\n",
        "\n",
        "void Pileibnitz(double *picalc, int thread_num){\n",
        "    int init = range * thread_num;\n",
        "    int end = range * (thread_num+1);\n",
        "    for (int i=init; i<end;i++){\n",
        "        *(picalc+thread_num) += (double) (4.0/(i*2+1));\n",
        "        i++;\n",
        "        *(picalc+thread_num) -= (double) (4.0/(i*2+1));\n",
        "    }\n",
        "    //printf(\"\\nRange of thread %i begin in %i and ends at %i\\n\", thread_num, init, end);\n",
        "}\n",
        "\n",
        "void main(){\n",
        "    FILE *fo;\n",
        "    fo = fopen (\"PiOPMCOLLAB.txt\", \"a\");\n",
        "    double pi[THREADS];\n",
        "    struct timeval tval_before, tval_after, tval_result;\n",
        "    gettimeofday(&tval_before, NULL);\n",
        "\n",
        "    for(int i=0; i<THREADS; i++){\n",
        "        pi[i]=0;\n",
        "    }\n",
        "\n",
        "\n",
        "    #pragma omp parallel num_threads(THREADS)\n",
        "    {\n",
        "        int ID = omp_get_thread_num();\n",
        "        Pileibnitz(pi, ID);\n",
        "    }\n",
        "    //printf(\"\\n Thread %i with pi value of %2.12f\\n\", 0, pi[0]);\n",
        "    for(int j=1; j<THREADS; j++){\n",
        "        pi[0] += pi[j];\n",
        "        //printf(\"\\n Thread %i with pi value of %2.12f\\n\", j, pi[j]);\n",
        "    }\n",
        "\n",
        "    gettimeofday(&tval_after, NULL); \n",
        "    timersub(&tval_after, &tval_before, &tval_result);\n",
        "    long int seconds = (long int)tval_result.tv_sec;\n",
        "    long int useconds = (long int)tval_result.tv_usec;\n",
        "    \n",
        "    fprintf(fo, \"%i %ld.%06ld\\n\", THREADS ,seconds, useconds);\n",
        "    fclose(fo);\n",
        "\n",
        "    printf(\"Pi calculated with %f iteractions \\n With a value of %2.12f \\n Executed in %ld.%06ld seconds\", ITERATIONS, pi[0], seconds, useconds); \n",
        "}"
      ],
      "metadata": {
        "colab": {
          "base_uri": "https://localhost:8080/"
        },
        "id": "tuH2NG9TiuUr",
        "outputId": "3aa593ca-1485-4ddd-ba93-5205c0898d5d"
      },
      "execution_count": 17,
      "outputs": [
        {
          "output_type": "stream",
          "name": "stdout",
          "text": [
            "Overwriting PiMPThreads.c\n"
          ]
        }
      ]
    },
    {
      "cell_type": "code",
      "source": [
        "%%shell\n",
        "gcc PiMPThreads.c -o PiMPThreads -fopenmp\n",
        "./PiMPThreads"
      ],
      "metadata": {
        "colab": {
          "base_uri": "https://localhost:8080/"
        },
        "id": "GkFIC44DjoAk",
        "outputId": "a3e4e24d-c1dd-470b-f30e-729b6335df7f"
      },
      "execution_count": 18,
      "outputs": [
        {
          "output_type": "stream",
          "name": "stdout",
          "text": [
            "Pi calculated with 2000000000.000000 iteractions \n",
            " With a value of 3.141592658507 \n",
            " Executed in 8.345906 seconds"
          ]
        },
        {
          "output_type": "execute_result",
          "data": {
            "text/plain": [
              ""
            ]
          },
          "metadata": {},
          "execution_count": 18
        }
      ]
    }
  ]
}